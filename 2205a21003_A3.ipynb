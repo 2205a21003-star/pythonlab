{
  "nbformat": 4,
  "nbformat_minor": 0,
  "metadata": {
    "colab": {
      "provenance": [],
      "authorship_tag": "ABX9TyOPlMOKG7qi9FoYZPyUk1wf",
      "include_colab_link": true
    },
    "kernelspec": {
      "name": "python3",
      "display_name": "Python 3"
    },
    "language_info": {
      "name": "python"
    }
  },
  "cells": [
    {
      "cell_type": "markdown",
      "metadata": {
        "id": "view-in-github",
        "colab_type": "text"
      },
      "source": [
        "<a href=\"https://colab.research.google.com/github/2205a21003-star/pythonlab/blob/main/2205a21003_A3.ipynb\" target=\"_parent\"><img src=\"https://colab.research.google.com/assets/colab-badge.svg\" alt=\"Open In Colab\"/></a>"
      ]
    },
    {
      "cell_type": "code",
      "execution_count": 2,
      "metadata": {
        "colab": {
          "base_uri": "https://localhost:8080/"
        },
        "id": "vrE0bMdfWIJ_",
        "outputId": "79b7a6f3-8fa3-475e-84b7-0c5d6c7bcab2"
      },
      "outputs": [
        {
          "output_type": "stream",
          "name": "stdout",
          "text": [
            "enter the v0:220\n",
            "enter the i0:2\n",
            "enter the w0:250\n",
            "enter the vsc:75\n",
            "enter the isc:10\n",
            "enter the wsc:500\n",
            "enter the rating:5000\n",
            "enter the x:1\n",
            "enter the pf:1\n",
            "r0 value 193.6\n",
            "x0 value 133.67309875319802\n",
            "rhv value 5.0\n",
            "xhv value 5.5901699437494745\n",
            "efficiency value 86.95652173913044\n",
            "copper_losses value 500.0\n"
          ]
        }
      ],
      "source": [
        "import transformer\n",
        "v0=int(input(\"enter the v0:\"))\n",
        "i0=int(input(\"enter the i0:\"))\n",
        "w0=int(input(\"enter the w0:\"))\n",
        "vsc=int(input(\"enter the vsc:\"))\n",
        "isc=int(input(\"enter the isc:\"))\n",
        "wsc=int(input(\"enter the wsc:\"))\n",
        "rating=int(input(\"enter the rating:\"))\n",
        "x=float(input(\"enter the x:\"))\n",
        "pf=float(input(\"enter the pf:\"))\n",
        "\n",
        "\n",
        "[r0,x0]=transformer.open_circuit(v0,i0,w0)\n",
        "[rhv,xhv]=transformer.short_circuitc(vsc,isc,wsc)\n",
        "[efficiency,copper]=transformer.eff(rating,w0,wsc,x,pf)\n",
        "print(\"r0 value\",r0)\n",
        "print(\"x0 value\",x0)\n",
        "print(\"rhv value\",rhv)\n",
        "print(\"xhv value\",xhv)\n",
        "print(\"efficiency value\",efficiency)\n",
        "print(\"copper_losses value\",copper)\n",
        "\n"
      ]
    }
  ]
}